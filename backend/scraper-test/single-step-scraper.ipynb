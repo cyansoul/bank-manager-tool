{
 "cells": [
  {
   "cell_type": "code",
   "execution_count": 1,
   "metadata": {},
   "outputs": [],
   "source": [
    "import pandas as pd\n",
    "import urllib3  # pip install -i https://pypi.anaconda.org/pypi/simple urllib3\n",
    "import json\n",
    "import sys\n",
    "import warnings"
   ]
  },
  {
   "cell_type": "code",
   "execution_count": 2,
   "metadata": {},
   "outputs": [
    {
     "name": "stderr",
     "output_type": "stream",
     "text": [
      "/Library/Frameworks/Python.framework/Versions/3.6/lib/python3.6/site-packages/urllib3/connectionpool.py:858: InsecureRequestWarning: Unverified HTTPS request is being made. Adding certificate verification is strongly advised. See: https://urllib3.readthedocs.io/en/latest/advanced-usage.html#ssl-warnings\n",
      "  InsecureRequestWarning)\n"
     ]
    }
   ],
   "source": [
    "http = urllib3.PoolManager()\n",
    "url = 'https://mobile.xib.com.cn/intelligent-deposit/index.html#/structured-deposit/structured-deposit-detail?productCode=GRSHC2020187'\n",
    "response = http.request('GET', url)\n"
   ]
  },
  {
   "cell_type": "code",
   "execution_count": 3,
   "metadata": {},
   "outputs": [
    {
     "data": {
      "text/plain": [
       "<urllib3.response.HTTPResponse at 0x11a429a20>"
      ]
     },
     "execution_count": 3,
     "metadata": {},
     "output_type": "execute_result"
    }
   ],
   "source": [
    "response"
   ]
  },
  {
   "cell_type": "code",
   "execution_count": 7,
   "metadata": {},
   "outputs": [
    {
     "data": {
      "text/plain": [
       "b'<!DOCTYPE html><html><head><meta charset=utf-8><meta name=viewport content=\"width=device-width,initial-scale=1,maximum-scale=1,user-scalable=no\"><meta name=format-detection content=\"telephone=no,email=no\"><meta name=apple-itunes-app content=\"app-id=976924873,affiliate-data=testaff\"><script src=/res/static/js/config.js type=text/javascript></script><title>\\xe5\\x8e\\xa6\\xe9\\x97\\xa8\\xe5\\x9b\\xbd\\xe9\\x99\\x85\\xe9\\x93\\xb6\\xe8\\xa1\\x8c</title><script>!function(e){function c(a){if(f[a])return f[a].exports;var d=f[a]={i:a,l:!1,exports:{}};return e[a].call(d.exports,d,d.exports,c),d.l=!0,d.exports}var a=window.webpackJsonp;window.webpackJsonp=function(f,b,t){for(var n,r,o,i=0,u=[];i<f.length;i++)r=f[i],d[r]&&u.push(d[r][0]),d[r]=0;for(n in b)Object.prototype.hasOwnProperty.call(b,n)&&(e[n]=b[n]);for(a&&a(f,b,t);u.length;)u.shift()();if(t)for(i=0;i<t.length;i++)o=c(c.s=t[i]);return o};var f={},d={62:0};c.e=function(e){function a(){n.onerror=n.onload=null,clearTimeout(r);var c=d[e];0!==c&&(c&&c[1](new Error(\"Loading chunk \"+e+\" failed.\")),d[e]=void 0)}var f=d[e];if(0===f)return new Promise(function(e){e()});if(f)return f[2];var b=new Promise(function(c,a){f=d[e]=[c,a]});f[2]=b;var t=document.getElementsByTagName(\"head\")[0],n=document.createElement(\"script\");n.type=\"text/javascript\",n.charset=\"utf-8\",n.async=!0,n.timeout=12e4,c.nc&&n.setAttribute(\"nonce\",c.nc),n.src=c.p+\"static/js/\"+({61:\"intelligent-deposit\"}[e]||e)+\".\"+{0:\"c137afabc94009ac7fb2\",1:\"8ec0573195c647acc274\",2:\"e6c2eecf8a8daf7f19b2\",3:\"5d54556911c518b2040a\",4:\"72b1f42e7ebd0aab7e13\",5:\"3b84180f130ebab8fae1\",6:\"c78a0204f4974afb152d\",7:\"e0d15dcb69210a0ba4bb\",8:\"7a850e88e4e91860c6be\",9:\"20e0e20bf979cc408e29\",10:\"b2382efec0082cde1a1e\",11:\"2916c7d1832ee859c3af\",12:\"ac87efd150221c5fa654\",13:\"d95575a6283b4b9cbff5\",14:\"5794c4ed9b56b7fcf2d8\",15:\"5a96d58bb6a657e7b6c6\",16:\"108f45df616d43db7dbd\",17:\"f47a0be1f5bbdedfd318\",18:\"87bd66289f22e93a3ad5\",19:\"a7311e747984f56ffd2e\",20:\"590f716d3dac0ce4744c\",21:\"8cae6812432273b4e1f0\",22:\"8dae4b71c613c85bd8de\",23:\"acef1de1ef21d7db04bc\",24:\"7699d1045523766f29c6\",25:\"bf9c27b03503272b5963\",26:\"7d414bbe522552b93b14\",27:\"1677f8de4b2d70583ce7\",28:\"069ecf13d26b7274306e\",29:\"857b8ef951838d3f4cd1\",30:\"742504760c2d41706f6b\",31:\"6ffa11dc7c9bd6560fca\",32:\"f7a08c4cac53a26cd513\",33:\"b4afe5131c70b6603683\",34:\"13218a51aacdc2ddc9a2\",35:\"46da25e654c648351149\",36:\"66ec70ce6a47aa1916ee\",37:\"80b134a81eb56e789fa0\",38:\"6590320b9f3927f59bbc\",39:\"645c4c259057ee2ef16b\",40:\"2c0f4e13215d48ddf197\",41:\"c35b863c299d3c0611b0\",42:\"e1d67b7052a2c16a1dad\",43:\"3c25c9157023f7cdf660\",44:\"5d1d1603586eea826ad8\",45:\"4fef3e640920832bb020\",46:\"76f4f0a959bc82869dfa\",47:\"792e86f235458b5a36c3\",48:\"1cd97ccc734253048647\",49:\"c34eaf2cbd407ac3ef0e\",50:\"e097ac0908ca9a3dd8c4\",51:\"2ad4a3bae10032724b6f\",52:\"d807a9dc764b9410fded\",53:\"1acf25a751d6ac496179\",54:\"7cbac2b2d35195a94c31\",55:\"ed76115a240463897a2c\",56:\"f7eba2ccc73b70639769\",57:\"2a51e7f26e538961a903\",58:\"d078747c8964ca2eea9b\",59:\"46e61548ff63d8990866\",60:\"80d3a02af9d23d356653\",61:\"ec790691e768908ac7f4\"}[e]+\".js\";var r=setTimeout(a,12e4);return n.onerror=n.onload=a,t.appendChild(n),b},c.m=e,c.c=f,c.d=function(e,a,f){c.o(e,a)||Object.defineProperty(e,a,{configurable:!1,enumerable:!0,get:f})},c.n=function(e){var a=e&&e.__esModule?function(){return e.default}:function(){return e};return c.d(a,\"a\",a),a},c.o=function(e,c){return Object.prototype.hasOwnProperty.call(e,c)},c.p=\"/intelligent-deposit/\",c.oe=function(e){throw e}}([]);</script><link href=/intelligent-deposit/static/css/intelligent-deposit.css rel=stylesheet><script type=text/javascript>console.log(\"    .;%%%%%%%%%%%%%%%%%%%%%%%%%%%%%%%%%%%%%%%%%%%!`    \\\\n  .!%:                                           :%!`   \\\\n  :|\\'             :|;             ;|:             `|;   \\\\n  :|`          ;%%%%%|\\'         \\'|%%%%%;          `|;   \\\\n  :|`       .!%%%%%%%%%:       :%%%%%%%%%!.       `|;   \\\\n  :|`      :%%%%;   ;%%%:     :%%%;.  :%%%%;      `|;   \\\\n  :|`    .!%%%;      ;%%%\\'   \\'%%%;.     ;%%%!.    `|;   \\\\n  :|`   .!%%%|`      .!%%!` .!%%!`      `|%%%!.   `|;   \\\\n  :|`    .!%%%%%%!`   \\'%%%: :%%%:   `!%%%%%%!.    `|;   \\\\n  :|`       .;%%%%%%%%%%%%|!|%%%%%%%%%%%%!.       `|;   \\\\n  :|`            :|%%%%%%%%%%%%%%%%%|:.           `|;   \\\\n  :|`                  :%%%%%%%;                  `|;   \\\\n  :|`            `;%%%%%%%%%%%%%%%%%!`            `|;   \\\\n  :|`        :|%%%%%%%%%%%%|%%%%%%%%%%%%|:        `|;   \\\\n  :|`     :%%%%%%|:   \\'%%%: :%%%\\'   :|%%%%%%;     `|;   \\\\n  :|`   `!%%%|\\'      .!%%|` `!%%!.      \\'|%%%|`   `|;   \\\\n  :|`    `!%%%;      ;%%%:   \\'%%%;      :%%%|`    `|;   \\\\n  :|`      ;%%%%:   ;%%%:     :%%%;   :%%%%;      `|;   \\\\n  :|`       `!%%%%||%%%:       :%%%||%%%%|`       `|;   \\\\n  :|`         .!%%%%%%\\'         \\'%%%%%%!.         `|;   \\\\n  :|`            .;%!.           .!%;.            `|;   \\\\n  :|`                                             `|;   \\\\n  :|`    \\'``\\'.\\'`\\';;:   :;:\\'`:;;``;:;\\'`\\'  \\'\\':;;`   `|;   \\\\n  :|`     ::  \\'``!!\\'  \\'\\' :;`;|:.\\'.  \\':\\'  \\'\\':!:.   `|;   \\\\n  :|`   .\\'..\\'`\\'`\\'!!:   :;;:\\'\\'.\\'\\'`;:;\\' :;;\\'.\\'.     `|;   \\\\n  \\'%;                                             :%\\'   \\\\n   `|%%||||||||||||||||||ZZZ||||||||||||||||||||%%|`    \")</script></head><body><div id=app></div><script src=/res/static/js/jquery.js charset=utf-8></script><script src=/res/static/js/phone/XIBLS-1.0.js charset=utf-8></script><script src=/res/static/js/echarts.min.js charset=utf-8></script><script src=/res/static/js/requestAnimationFrame.js charset=utf-8></script><script src=/res/static/js/phone/password.js type=text/javascript></script><script type=text/javascript src=/res/static/vue2.dll.js></script><script type=text/javascript src=/intelligent-deposit/static/js/intelligent-deposit.ec790691e768908ac7f4.js></script></body></html>'"
      ]
     },
     "execution_count": 7,
     "metadata": {},
     "output_type": "execute_result"
    }
   ],
   "source": [
    "response.data"
   ]
  },
  {
   "cell_type": "code",
   "execution_count": null,
   "metadata": {},
   "outputs": [],
   "source": []
  }
 ],
 "metadata": {
  "kernelspec": {
   "display_name": "Python 3",
   "language": "python",
   "name": "python3"
  },
  "language_info": {
   "codemirror_mode": {
    "name": "ipython",
    "version": 3
   },
   "file_extension": ".py",
   "mimetype": "text/x-python",
   "name": "python",
   "nbconvert_exporter": "python",
   "pygments_lexer": "ipython3",
   "version": "3.6.2"
  }
 },
 "nbformat": 4,
 "nbformat_minor": 4
}
