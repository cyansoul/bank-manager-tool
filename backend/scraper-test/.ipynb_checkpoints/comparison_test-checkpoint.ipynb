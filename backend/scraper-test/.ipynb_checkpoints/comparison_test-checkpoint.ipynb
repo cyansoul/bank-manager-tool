{
 "cells": [
  {
   "cell_type": "code",
   "execution_count": 1,
   "metadata": {},
   "outputs": [],
   "source": [
    "import pandas as pd"
   ]
  },
  {
   "cell_type": "code",
   "execution_count": 40,
   "metadata": {},
   "outputs": [],
   "source": [
    "prod_struct_data = pd.read_csv('../data/prod_struct_data.csv')"
   ]
  },
  {
   "cell_type": "code",
   "execution_count": 41,
   "metadata": {},
   "outputs": [
    {
     "data": {
      "text/html": [
       "<div>\n",
       "<style scoped>\n",
       "    .dataframe tbody tr th:only-of-type {\n",
       "        vertical-align: middle;\n",
       "    }\n",
       "\n",
       "    .dataframe tbody tr th {\n",
       "        vertical-align: top;\n",
       "    }\n",
       "\n",
       "    .dataframe thead th {\n",
       "        text-align: right;\n",
       "    }\n",
       "</style>\n",
       "<table border=\"1\" class=\"dataframe\">\n",
       "  <thead>\n",
       "    <tr style=\"text-align: right;\">\n",
       "      <th></th>\n",
       "      <th>类别</th>\n",
       "      <th>招商银行</th>\n",
       "      <th>光大银行</th>\n",
       "      <th>兴业银行</th>\n",
       "      <th>平安银行</th>\n",
       "      <th>浙商银行</th>\n",
       "      <th>民生银行</th>\n",
       "      <th>浦发银行</th>\n",
       "      <th>中信银行</th>\n",
       "      <th>广发银行</th>\n",
       "      <th>华夏银行</th>\n",
       "    </tr>\n",
       "  </thead>\n",
       "  <tbody>\n",
       "    <tr>\n",
       "      <th>0</th>\n",
       "      <td>结构性存款</td>\n",
       "      <td>0.1333</td>\n",
       "      <td>0.1111</td>\n",
       "      <td>0.0227</td>\n",
       "      <td>0.1628</td>\n",
       "      <td>0.0577</td>\n",
       "      <td>0.0625</td>\n",
       "      <td>0.0588</td>\n",
       "      <td>0.1639</td>\n",
       "      <td>0.1429</td>\n",
       "      <td>0.0877</td>\n",
       "    </tr>\n",
       "    <tr>\n",
       "      <th>1</th>\n",
       "      <td>大额存单</td>\n",
       "      <td>0.3778</td>\n",
       "      <td>0.2222</td>\n",
       "      <td>0.1705</td>\n",
       "      <td>0.1163</td>\n",
       "      <td>0.0192</td>\n",
       "      <td>0.0208</td>\n",
       "      <td>0.1471</td>\n",
       "      <td>0.1148</td>\n",
       "      <td>0.1071</td>\n",
       "      <td>0.1053</td>\n",
       "    </tr>\n",
       "    <tr>\n",
       "      <th>2</th>\n",
       "      <td>定期存款</td>\n",
       "      <td>0.0444</td>\n",
       "      <td>0.2222</td>\n",
       "      <td>0.0341</td>\n",
       "      <td>0.0465</td>\n",
       "      <td>0.1923</td>\n",
       "      <td>0.0208</td>\n",
       "      <td>0.1324</td>\n",
       "      <td>0.0656</td>\n",
       "      <td>0.0893</td>\n",
       "      <td>0.1053</td>\n",
       "    </tr>\n",
       "    <tr>\n",
       "      <th>3</th>\n",
       "      <td>外币理财</td>\n",
       "      <td>0.0444</td>\n",
       "      <td>0.0556</td>\n",
       "      <td>0.2273</td>\n",
       "      <td>0.0465</td>\n",
       "      <td>0.0962</td>\n",
       "      <td>0.1042</td>\n",
       "      <td>0.0588</td>\n",
       "      <td>0.0984</td>\n",
       "      <td>0.1250</td>\n",
       "      <td>0.1404</td>\n",
       "    </tr>\n",
       "    <tr>\n",
       "      <th>4</th>\n",
       "      <td>活期理财</td>\n",
       "      <td>0.1111</td>\n",
       "      <td>0.1111</td>\n",
       "      <td>0.2273</td>\n",
       "      <td>0.0233</td>\n",
       "      <td>0.3077</td>\n",
       "      <td>0.4167</td>\n",
       "      <td>0.1029</td>\n",
       "      <td>0.0820</td>\n",
       "      <td>0.3036</td>\n",
       "      <td>0.2632</td>\n",
       "    </tr>\n",
       "    <tr>\n",
       "      <th>5</th>\n",
       "      <td>贵金属理财</td>\n",
       "      <td>0.0667</td>\n",
       "      <td>0.1111</td>\n",
       "      <td>0.2045</td>\n",
       "      <td>0.3953</td>\n",
       "      <td>0.2885</td>\n",
       "      <td>0.2500</td>\n",
       "      <td>0.2500</td>\n",
       "      <td>0.2295</td>\n",
       "      <td>0.1964</td>\n",
       "      <td>0.0351</td>\n",
       "    </tr>\n",
       "    <tr>\n",
       "      <th>6</th>\n",
       "      <td>权益类理财</td>\n",
       "      <td>0.2222</td>\n",
       "      <td>0.1667</td>\n",
       "      <td>0.1136</td>\n",
       "      <td>0.2093</td>\n",
       "      <td>0.0385</td>\n",
       "      <td>0.1250</td>\n",
       "      <td>0.2500</td>\n",
       "      <td>0.2459</td>\n",
       "      <td>0.0357</td>\n",
       "      <td>0.2632</td>\n",
       "    </tr>\n",
       "  </tbody>\n",
       "</table>\n",
       "</div>"
      ],
      "text/plain": [
       "      类别    招商银行    光大银行    兴业银行    平安银行    浙商银行    民生银行    浦发银行    中信银行  \\\n",
       "0  结构性存款  0.1333  0.1111  0.0227  0.1628  0.0577  0.0625  0.0588  0.1639   \n",
       "1   大额存单  0.3778  0.2222  0.1705  0.1163  0.0192  0.0208  0.1471  0.1148   \n",
       "2   定期存款  0.0444  0.2222  0.0341  0.0465  0.1923  0.0208  0.1324  0.0656   \n",
       "3   外币理财  0.0444  0.0556  0.2273  0.0465  0.0962  0.1042  0.0588  0.0984   \n",
       "4   活期理财  0.1111  0.1111  0.2273  0.0233  0.3077  0.4167  0.1029  0.0820   \n",
       "5  贵金属理财  0.0667  0.1111  0.2045  0.3953  0.2885  0.2500  0.2500  0.2295   \n",
       "6  权益类理财  0.2222  0.1667  0.1136  0.2093  0.0385  0.1250  0.2500  0.2459   \n",
       "\n",
       "     广发银行    华夏银行  \n",
       "0  0.1429  0.0877  \n",
       "1  0.1071  0.1053  \n",
       "2  0.0893  0.1053  \n",
       "3  0.1250  0.1404  \n",
       "4  0.3036  0.2632  \n",
       "5  0.1964  0.0351  \n",
       "6  0.0357  0.2632  "
      ]
     },
     "execution_count": 41,
     "metadata": {},
     "output_type": "execute_result"
    }
   ],
   "source": [
    "prod_struct_data"
   ]
  },
  {
   "cell_type": "code",
   "execution_count": 42,
   "metadata": {},
   "outputs": [],
   "source": [
    "prod_struct_data = pd.DataFrame(prod_struct_data.values.T, index=prod_struct_data.columns, columns=prod_struct_data['类别'])"
   ]
  },
  {
   "cell_type": "code",
   "execution_count": 43,
   "metadata": {},
   "outputs": [],
   "source": [
    "prod_struct_data['银行'] = prod_struct_data.index"
   ]
  },
  {
   "cell_type": "code",
   "execution_count": 46,
   "metadata": {},
   "outputs": [],
   "source": [
    "lst = list(prod_struct_data.columns)"
   ]
  },
  {
   "cell_type": "code",
   "execution_count": 47,
   "metadata": {},
   "outputs": [
    {
     "data": {
      "text/plain": [
       "['结构性存款', '大额存单', '定期存款', '外币理财', '活期理财', '贵金属理财', '权益类理财', '银行']"
      ]
     },
     "execution_count": 47,
     "metadata": {},
     "output_type": "execute_result"
    }
   ],
   "source": [
    "lst"
   ]
  },
  {
   "cell_type": "code",
   "execution_count": 48,
   "metadata": {},
   "outputs": [],
   "source": [
    "prod_struct_data = prod_struct_data[['银行', '结构性存款', '大额存单', '定期存款', '外币理财', '活期理财', '贵金属理财', '权益类理财']]"
   ]
  },
  {
   "cell_type": "code",
   "execution_count": 49,
   "metadata": {},
   "outputs": [],
   "source": [
    "prod_struct_data.to_csv('/Users/Cyan/Documents/OneConnect/bank-manager-tool/backend/data/prod_struct_data.csv', index=False)"
   ]
  },
  {
   "cell_type": "code",
   "execution_count": 50,
   "metadata": {},
   "outputs": [],
   "source": [
    "tmp = prod_struct_data.to_dict(orient='records')"
   ]
  },
  {
   "cell_type": "code",
   "execution_count": null,
   "metadata": {},
   "outputs": [],
   "source": [
    "bank_data1 = "
   ]
  },
  {
   "cell_type": "code",
   "execution_count": null,
   "metadata": {},
   "outputs": [],
   "source": []
  },
  {
   "cell_type": "code",
   "execution_count": 51,
   "metadata": {},
   "outputs": [
    {
     "data": {
      "text/plain": [
       "[{'银行': '类别',\n",
       "  '结构性存款': '结构性存款',\n",
       "  '大额存单': '大额存单',\n",
       "  '定期存款': '定期存款',\n",
       "  '外币理财': '外币理财',\n",
       "  '活期理财': '活期理财',\n",
       "  '贵金属理财': '贵金属理财',\n",
       "  '权益类理财': '权益类理财'},\n",
       " {'银行': '招商银行',\n",
       "  '结构性存款': 0.1333,\n",
       "  '大额存单': 0.3778,\n",
       "  '定期存款': 0.0444,\n",
       "  '外币理财': 0.0444,\n",
       "  '活期理财': 0.1111,\n",
       "  '贵金属理财': 0.0667,\n",
       "  '权益类理财': 0.2222},\n",
       " {'银行': '光大银行',\n",
       "  '结构性存款': 0.1111,\n",
       "  '大额存单': 0.2222,\n",
       "  '定期存款': 0.2222,\n",
       "  '外币理财': 0.0556,\n",
       "  '活期理财': 0.1111,\n",
       "  '贵金属理财': 0.1111,\n",
       "  '权益类理财': 0.1667},\n",
       " {'银行': '兴业银行',\n",
       "  '结构性存款': 0.0227,\n",
       "  '大额存单': 0.1705,\n",
       "  '定期存款': 0.0341,\n",
       "  '外币理财': 0.2273,\n",
       "  '活期理财': 0.2273,\n",
       "  '贵金属理财': 0.2045,\n",
       "  '权益类理财': 0.1136},\n",
       " {'银行': '平安银行',\n",
       "  '结构性存款': 0.1628,\n",
       "  '大额存单': 0.1163,\n",
       "  '定期存款': 0.0465,\n",
       "  '外币理财': 0.0465,\n",
       "  '活期理财': 0.0233,\n",
       "  '贵金属理财': 0.3953,\n",
       "  '权益类理财': 0.2093},\n",
       " {'银行': '浙商银行',\n",
       "  '结构性存款': 0.0577,\n",
       "  '大额存单': 0.0192,\n",
       "  '定期存款': 0.1923,\n",
       "  '外币理财': 0.0962,\n",
       "  '活期理财': 0.3077,\n",
       "  '贵金属理财': 0.2885,\n",
       "  '权益类理财': 0.0385},\n",
       " {'银行': '民生银行',\n",
       "  '结构性存款': 0.0625,\n",
       "  '大额存单': 0.0208,\n",
       "  '定期存款': 0.0208,\n",
       "  '外币理财': 0.1042,\n",
       "  '活期理财': 0.4167,\n",
       "  '贵金属理财': 0.25,\n",
       "  '权益类理财': 0.125},\n",
       " {'银行': '浦发银行',\n",
       "  '结构性存款': 0.0588,\n",
       "  '大额存单': 0.1471,\n",
       "  '定期存款': 0.1324,\n",
       "  '外币理财': 0.0588,\n",
       "  '活期理财': 0.1029,\n",
       "  '贵金属理财': 0.25,\n",
       "  '权益类理财': 0.25},\n",
       " {'银行': '中信银行',\n",
       "  '结构性存款': 0.1639,\n",
       "  '大额存单': 0.1148,\n",
       "  '定期存款': 0.0656,\n",
       "  '外币理财': 0.0984,\n",
       "  '活期理财': 0.08199999999999999,\n",
       "  '贵金属理财': 0.2295,\n",
       "  '权益类理财': 0.2459},\n",
       " {'银行': '广发银行',\n",
       "  '结构性存款': 0.1429,\n",
       "  '大额存单': 0.1071,\n",
       "  '定期存款': 0.0893,\n",
       "  '外币理财': 0.125,\n",
       "  '活期理财': 0.3036,\n",
       "  '贵金属理财': 0.1964,\n",
       "  '权益类理财': 0.0357},\n",
       " {'银行': '华夏银行',\n",
       "  '结构性存款': 0.0877,\n",
       "  '大额存单': 0.1053,\n",
       "  '定期存款': 0.1053,\n",
       "  '外币理财': 0.1404,\n",
       "  '活期理财': 0.2632,\n",
       "  '贵金属理财': 0.0351,\n",
       "  '权益类理财': 0.2632}]"
      ]
     },
     "execution_count": 51,
     "metadata": {},
     "output_type": "execute_result"
    }
   ],
   "source": [
    "tmp"
   ]
  },
  {
   "cell_type": "code",
   "execution_count": null,
   "metadata": {},
   "outputs": [],
   "source": []
  },
  {
   "cell_type": "code",
   "execution_count": null,
   "metadata": {},
   "outputs": [],
   "source": []
  },
  {
   "cell_type": "code",
   "execution_count": 17,
   "metadata": {},
   "outputs": [],
   "source": [
    "tmp = prod_struct_data.to_dict(orient='records')"
   ]
  },
  {
   "cell_type": "code",
   "execution_count": 18,
   "metadata": {},
   "outputs": [
    {
     "data": {
      "text/plain": [
       "[{0: '结构性存款',\n",
       "  1: '大额存单',\n",
       "  2: '定期存款',\n",
       "  3: '外币理财',\n",
       "  4: '活期理财',\n",
       "  5: '贵金属理财',\n",
       "  6: '权益类理财'},\n",
       " {0: 0.1333, 1: 0.3778, 2: 0.0444, 3: 0.0444, 4: 0.1111, 5: 0.0667, 6: 0.2222},\n",
       " {0: 0.1111, 1: 0.2222, 2: 0.2222, 3: 0.0556, 4: 0.1111, 5: 0.1111, 6: 0.1667},\n",
       " {0: 0.0227, 1: 0.1705, 2: 0.0341, 3: 0.2273, 4: 0.2273, 5: 0.2045, 6: 0.1136},\n",
       " {0: 0.1628, 1: 0.1163, 2: 0.0465, 3: 0.0465, 4: 0.0233, 5: 0.3953, 6: 0.2093},\n",
       " {0: 0.0577, 1: 0.0192, 2: 0.1923, 3: 0.0962, 4: 0.3077, 5: 0.2885, 6: 0.0385},\n",
       " {0: 0.0625, 1: 0.0208, 2: 0.0208, 3: 0.1042, 4: 0.4167, 5: 0.25, 6: 0.125},\n",
       " {0: 0.0588, 1: 0.1471, 2: 0.1324, 3: 0.0588, 4: 0.1029, 5: 0.25, 6: 0.25},\n",
       " {0: 0.1639,\n",
       "  1: 0.1148,\n",
       "  2: 0.0656,\n",
       "  3: 0.0984,\n",
       "  4: 0.08199999999999999,\n",
       "  5: 0.2295,\n",
       "  6: 0.2459},\n",
       " {0: 0.1429, 1: 0.1071, 2: 0.0893, 3: 0.125, 4: 0.3036, 5: 0.1964, 6: 0.0357},\n",
       " {0: 0.0877, 1: 0.1053, 2: 0.1053, 3: 0.1404, 4: 0.2632, 5: 0.0351, 6: 0.2632}]"
      ]
     },
     "execution_count": 18,
     "metadata": {},
     "output_type": "execute_result"
    }
   ],
   "source": [
    "tmp"
   ]
  },
  {
   "cell_type": "code",
   "execution_count": null,
   "metadata": {},
   "outputs": [],
   "source": []
  },
  {
   "cell_type": "code",
   "execution_count": 24,
   "metadata": {},
   "outputs": [],
   "source": [
    "bank1 = '招商银行'\n",
    "bank2 = '平安银行'"
   ]
  },
  {
   "cell_type": "code",
   "execution_count": 25,
   "metadata": {},
   "outputs": [],
   "source": [
    "columns = ['产品类别', bank1, bank2]"
   ]
  },
  {
   "cell_type": "code",
   "execution_count": 30,
   "metadata": {},
   "outputs": [],
   "source": [
    "bank1_struct_data = prod_struct_data[columns]"
   ]
  },
  {
   "cell_type": "code",
   "execution_count": 31,
   "metadata": {},
   "outputs": [],
   "source": [
    "tmp = bank1_struct_data.to_dict(orient='records')"
   ]
  },
  {
   "cell_type": "code",
   "execution_count": 32,
   "metadata": {},
   "outputs": [
    {
     "data": {
      "text/plain": [
       "[{'产品类别': '结构性存款', '招商银行': '13.33%', '平安银行': '16.28%'},\n",
       " {'产品类别': '大额存单', '招商银行': '37.78%', '平安银行': '11.63%'},\n",
       " {'产品类别': '定期存款', '招商银行': '4.44%', '平安银行': '4.65%'},\n",
       " {'产品类别': '外币理财', '招商银行': '4.44%', '平安银行': '4.65%'},\n",
       " {'产品类别': '活期理财', '招商银行': '11.11%', '平安银行': '2.33%'},\n",
       " {'产品类别': '贵金属理财', '招商银行': '6.67%', '平安银行': '39.53%'},\n",
       " {'产品类别': '权益类理财', '招商银行': '22.22%', '平安银行': '20.93%'}]"
      ]
     },
     "execution_count": 32,
     "metadata": {},
     "output_type": "execute_result"
    }
   ],
   "source": [
    "tmp"
   ]
  },
  {
   "cell_type": "code",
   "execution_count": 35,
   "metadata": {},
   "outputs": [
    {
     "ename": "TypeError",
     "evalue": "'NoneType' object is not iterable",
     "output_type": "error",
     "traceback": [
      "\u001b[0;31m---------------------------------------------------------------------------\u001b[0m",
      "\u001b[0;31mTypeError\u001b[0m                                 Traceback (most recent call last)",
      "\u001b[0;32m<ipython-input-35-fb63289f4768>\u001b[0m in \u001b[0;36m<module>\u001b[0;34m\u001b[0m\n\u001b[0;32m----> 1\u001b[0;31m \u001b[0;32mfor\u001b[0m \u001b[0mcol\u001b[0m \u001b[0;32min\u001b[0m \u001b[0mlist\u001b[0m\u001b[0;34m(\u001b[0m\u001b[0mbank1_struct_data\u001b[0m\u001b[0;34m.\u001b[0m\u001b[0mcolumns\u001b[0m\u001b[0;34m)\u001b[0m\u001b[0;34m.\u001b[0m\u001b[0mremove\u001b[0m\u001b[0;34m(\u001b[0m\u001b[0;34m'产品类别'\u001b[0m\u001b[0;34m)\u001b[0m\u001b[0;34m:\u001b[0m\u001b[0;34m\u001b[0m\u001b[0m\n\u001b[0m\u001b[1;32m      2\u001b[0m     \u001b[0mbank1_struct_data\u001b[0m\u001b[0;34m[\u001b[0m\u001b[0mcol\u001b[0m\u001b[0;34m]\u001b[0m \u001b[0;34m=\u001b[0m \u001b[0mbank1_struct_data\u001b[0m\u001b[0;34m[\u001b[0m\u001b[0mcol\u001b[0m\u001b[0;34m]\u001b[0m\u001b[0;34m.\u001b[0m\u001b[0mastype\u001b[0m\u001b[0;34m(\u001b[0m\u001b[0mfloat\u001b[0m\u001b[0;34m)\u001b[0m\u001b[0;34m\u001b[0m\u001b[0m\n",
      "\u001b[0;31mTypeError\u001b[0m: 'NoneType' object is not iterable"
     ]
    }
   ],
   "source": [
    "for col in list(bank1_struct_data.columns).remove('产品类别'):\n",
    "    bank1_struct_data[col] = bank1_struct_data[col].astype(float)"
   ]
  },
  {
   "cell_type": "code",
   "execution_count": null,
   "metadata": {},
   "outputs": [],
   "source": []
  }
 ],
 "metadata": {
  "kernelspec": {
   "display_name": "Python 3",
   "language": "python",
   "name": "python3"
  },
  "language_info": {
   "codemirror_mode": {
    "name": "ipython",
    "version": 3
   },
   "file_extension": ".py",
   "mimetype": "text/x-python",
   "name": "python",
   "nbconvert_exporter": "python",
   "pygments_lexer": "ipython3",
   "version": "3.7.3"
  }
 },
 "nbformat": 4,
 "nbformat_minor": 4
}
