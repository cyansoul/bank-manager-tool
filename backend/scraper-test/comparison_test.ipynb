{
 "cells": [
  {
   "cell_type": "code",
   "execution_count": 1,
   "metadata": {},
   "outputs": [],
   "source": [
    "import pandas as pd"
   ]
  },
  {
   "cell_type": "code",
   "execution_count": 18,
   "metadata": {},
   "outputs": [],
   "source": [
    "prod_struct_data = pd.read_csv('../data/prod_struct_data.csv')"
   ]
  },
  {
   "cell_type": "code",
   "execution_count": 19,
   "metadata": {},
   "outputs": [
    {
     "data": {
      "text/html": [
       "<div>\n",
       "<style scoped>\n",
       "    .dataframe tbody tr th:only-of-type {\n",
       "        vertical-align: middle;\n",
       "    }\n",
       "\n",
       "    .dataframe tbody tr th {\n",
       "        vertical-align: top;\n",
       "    }\n",
       "\n",
       "    .dataframe thead th {\n",
       "        text-align: right;\n",
       "    }\n",
       "</style>\n",
       "<table border=\"1\" class=\"dataframe\">\n",
       "  <thead>\n",
       "    <tr style=\"text-align: right;\">\n",
       "      <th></th>\n",
       "      <th>产品类别</th>\n",
       "      <th>招商银行</th>\n",
       "      <th>光大银行</th>\n",
       "      <th>兴业银行</th>\n",
       "      <th>平安银行</th>\n",
       "      <th>浙商银行</th>\n",
       "      <th>民生银行</th>\n",
       "      <th>浦发银行</th>\n",
       "      <th>中信银行</th>\n",
       "      <th>广发银行</th>\n",
       "      <th>华夏银行</th>\n",
       "    </tr>\n",
       "  </thead>\n",
       "  <tbody>\n",
       "    <tr>\n",
       "      <th>0</th>\n",
       "      <td>结构性存款</td>\n",
       "      <td>13.33%</td>\n",
       "      <td>11.11%</td>\n",
       "      <td>2.27%</td>\n",
       "      <td>16.28%</td>\n",
       "      <td>5.77%</td>\n",
       "      <td>6.25%</td>\n",
       "      <td>5.88%</td>\n",
       "      <td>16.39%</td>\n",
       "      <td>14.29%</td>\n",
       "      <td>8.77%</td>\n",
       "    </tr>\n",
       "    <tr>\n",
       "      <th>1</th>\n",
       "      <td>大额存单</td>\n",
       "      <td>37.78%</td>\n",
       "      <td>22.22%</td>\n",
       "      <td>17.05%</td>\n",
       "      <td>11.63%</td>\n",
       "      <td>1.92%</td>\n",
       "      <td>2.08%</td>\n",
       "      <td>14.71%</td>\n",
       "      <td>11.48%</td>\n",
       "      <td>10.71%</td>\n",
       "      <td>10.53%</td>\n",
       "    </tr>\n",
       "    <tr>\n",
       "      <th>2</th>\n",
       "      <td>定期存款</td>\n",
       "      <td>4.44%</td>\n",
       "      <td>22.22%</td>\n",
       "      <td>3.41%</td>\n",
       "      <td>4.65%</td>\n",
       "      <td>19.23%</td>\n",
       "      <td>2.08%</td>\n",
       "      <td>13.24%</td>\n",
       "      <td>6.56%</td>\n",
       "      <td>8.93%</td>\n",
       "      <td>10.53%</td>\n",
       "    </tr>\n",
       "    <tr>\n",
       "      <th>3</th>\n",
       "      <td>外币理财</td>\n",
       "      <td>4.44%</td>\n",
       "      <td>5.56%</td>\n",
       "      <td>22.73%</td>\n",
       "      <td>4.65%</td>\n",
       "      <td>9.62%</td>\n",
       "      <td>10.42%</td>\n",
       "      <td>5.88%</td>\n",
       "      <td>9.84%</td>\n",
       "      <td>12.50%</td>\n",
       "      <td>14.04%</td>\n",
       "    </tr>\n",
       "    <tr>\n",
       "      <th>4</th>\n",
       "      <td>活期理财</td>\n",
       "      <td>11.11%</td>\n",
       "      <td>11.11%</td>\n",
       "      <td>22.73%</td>\n",
       "      <td>2.33%</td>\n",
       "      <td>30.77%</td>\n",
       "      <td>41.67%</td>\n",
       "      <td>10.29%</td>\n",
       "      <td>8.20%</td>\n",
       "      <td>30.36%</td>\n",
       "      <td>26.32%</td>\n",
       "    </tr>\n",
       "    <tr>\n",
       "      <th>5</th>\n",
       "      <td>贵金属理财</td>\n",
       "      <td>6.67%</td>\n",
       "      <td>11.11%</td>\n",
       "      <td>20.45%</td>\n",
       "      <td>39.53%</td>\n",
       "      <td>28.85%</td>\n",
       "      <td>25.00%</td>\n",
       "      <td>25.00%</td>\n",
       "      <td>22.95%</td>\n",
       "      <td>19.64%</td>\n",
       "      <td>3.51%</td>\n",
       "    </tr>\n",
       "    <tr>\n",
       "      <th>6</th>\n",
       "      <td>权益类理财</td>\n",
       "      <td>22.22%</td>\n",
       "      <td>16.67%</td>\n",
       "      <td>11.36%</td>\n",
       "      <td>20.93%</td>\n",
       "      <td>3.85%</td>\n",
       "      <td>12.50%</td>\n",
       "      <td>25.00%</td>\n",
       "      <td>24.59%</td>\n",
       "      <td>3.57%</td>\n",
       "      <td>26.32%</td>\n",
       "    </tr>\n",
       "  </tbody>\n",
       "</table>\n",
       "</div>"
      ],
      "text/plain": [
       "    产品类别    招商银行    光大银行    兴业银行    平安银行    浙商银行    民生银行    浦发银行    中信银行  \\\n",
       "0  结构性存款  13.33%  11.11%   2.27%  16.28%   5.77%   6.25%   5.88%  16.39%   \n",
       "1   大额存单  37.78%  22.22%  17.05%  11.63%   1.92%   2.08%  14.71%  11.48%   \n",
       "2   定期存款   4.44%  22.22%   3.41%   4.65%  19.23%   2.08%  13.24%   6.56%   \n",
       "3   外币理财   4.44%   5.56%  22.73%   4.65%   9.62%  10.42%   5.88%   9.84%   \n",
       "4   活期理财  11.11%  11.11%  22.73%   2.33%  30.77%  41.67%  10.29%   8.20%   \n",
       "5  贵金属理财   6.67%  11.11%  20.45%  39.53%  28.85%  25.00%  25.00%  22.95%   \n",
       "6  权益类理财  22.22%  16.67%  11.36%  20.93%   3.85%  12.50%  25.00%  24.59%   \n",
       "\n",
       "     广发银行    华夏银行  \n",
       "0  14.29%   8.77%  \n",
       "1  10.71%  10.53%  \n",
       "2   8.93%  10.53%  \n",
       "3  12.50%  14.04%  \n",
       "4  30.36%  26.32%  \n",
       "5  19.64%   3.51%  \n",
       "6   3.57%  26.32%  "
      ]
     },
     "execution_count": 19,
     "metadata": {},
     "output_type": "execute_result"
    }
   ],
   "source": [
    "prod_struct_data"
   ]
  },
  {
   "cell_type": "code",
   "execution_count": 24,
   "metadata": {},
   "outputs": [],
   "source": [
    "bank1 = '招商银行'\n",
    "bank2 = '平安银行'"
   ]
  },
  {
   "cell_type": "code",
   "execution_count": 25,
   "metadata": {},
   "outputs": [],
   "source": [
    "columns = ['产品类别', bank1, bank2]"
   ]
  },
  {
   "cell_type": "code",
   "execution_count": 30,
   "metadata": {},
   "outputs": [],
   "source": [
    "bank1_struct_data = prod_struct_data[columns]"
   ]
  },
  {
   "cell_type": "code",
   "execution_count": 31,
   "metadata": {},
   "outputs": [],
   "source": [
    "tmp = bank1_struct_data.to_dict(orient='records')"
   ]
  },
  {
   "cell_type": "code",
   "execution_count": 32,
   "metadata": {},
   "outputs": [
    {
     "data": {
      "text/plain": [
       "[{'产品类别': '结构性存款', '招商银行': '13.33%', '平安银行': '16.28%'},\n",
       " {'产品类别': '大额存单', '招商银行': '37.78%', '平安银行': '11.63%'},\n",
       " {'产品类别': '定期存款', '招商银行': '4.44%', '平安银行': '4.65%'},\n",
       " {'产品类别': '外币理财', '招商银行': '4.44%', '平安银行': '4.65%'},\n",
       " {'产品类别': '活期理财', '招商银行': '11.11%', '平安银行': '2.33%'},\n",
       " {'产品类别': '贵金属理财', '招商银行': '6.67%', '平安银行': '39.53%'},\n",
       " {'产品类别': '权益类理财', '招商银行': '22.22%', '平安银行': '20.93%'}]"
      ]
     },
     "execution_count": 32,
     "metadata": {},
     "output_type": "execute_result"
    }
   ],
   "source": [
    "tmp"
   ]
  },
  {
   "cell_type": "code",
   "execution_count": 35,
   "metadata": {},
   "outputs": [
    {
     "ename": "TypeError",
     "evalue": "'NoneType' object is not iterable",
     "output_type": "error",
     "traceback": [
      "\u001b[0;31m---------------------------------------------------------------------------\u001b[0m",
      "\u001b[0;31mTypeError\u001b[0m                                 Traceback (most recent call last)",
      "\u001b[0;32m<ipython-input-35-fb63289f4768>\u001b[0m in \u001b[0;36m<module>\u001b[0;34m\u001b[0m\n\u001b[0;32m----> 1\u001b[0;31m \u001b[0;32mfor\u001b[0m \u001b[0mcol\u001b[0m \u001b[0;32min\u001b[0m \u001b[0mlist\u001b[0m\u001b[0;34m(\u001b[0m\u001b[0mbank1_struct_data\u001b[0m\u001b[0;34m.\u001b[0m\u001b[0mcolumns\u001b[0m\u001b[0;34m)\u001b[0m\u001b[0;34m.\u001b[0m\u001b[0mremove\u001b[0m\u001b[0;34m(\u001b[0m\u001b[0;34m'产品类别'\u001b[0m\u001b[0;34m)\u001b[0m\u001b[0;34m:\u001b[0m\u001b[0;34m\u001b[0m\u001b[0m\n\u001b[0m\u001b[1;32m      2\u001b[0m     \u001b[0mbank1_struct_data\u001b[0m\u001b[0;34m[\u001b[0m\u001b[0mcol\u001b[0m\u001b[0;34m]\u001b[0m \u001b[0;34m=\u001b[0m \u001b[0mbank1_struct_data\u001b[0m\u001b[0;34m[\u001b[0m\u001b[0mcol\u001b[0m\u001b[0;34m]\u001b[0m\u001b[0;34m.\u001b[0m\u001b[0mastype\u001b[0m\u001b[0;34m(\u001b[0m\u001b[0mfloat\u001b[0m\u001b[0;34m)\u001b[0m\u001b[0;34m\u001b[0m\u001b[0m\n",
      "\u001b[0;31mTypeError\u001b[0m: 'NoneType' object is not iterable"
     ]
    }
   ],
   "source": [
    "for col in list(bank1_struct_data.columns).remove('产品类别'):\n",
    "    bank1_struct_data[col] = bank1_struct_data[col].astype(float)"
   ]
  },
  {
   "cell_type": "code",
   "execution_count": null,
   "metadata": {},
   "outputs": [],
   "source": []
  }
 ],
 "metadata": {
  "kernelspec": {
   "display_name": "Python 3",
   "language": "python",
   "name": "python3"
  },
  "language_info": {
   "codemirror_mode": {
    "name": "ipython",
    "version": 3
   },
   "file_extension": ".py",
   "mimetype": "text/x-python",
   "name": "python",
   "nbconvert_exporter": "python",
   "pygments_lexer": "ipython3",
   "version": "3.6.2"
  }
 },
 "nbformat": 4,
 "nbformat_minor": 4
}
